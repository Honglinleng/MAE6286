{
 "cells": [
  {
   "cell_type": "markdown",
   "metadata": {},
   "source": [
    "Before you turn in your homework, make sure everything runs as expected.\n",
    "\n",
    "Make sure you execute every single code cell, in order, filling with your solutions in any place that says `# YOUR CODE HERE`, and always DELETE the line that says:\n",
    "\n",
    "```python\n",
    "raise NotImplementedError()\n",
    "```\n",
    "\n",
    "The purpose of this line is to tell you if you forgot to answer a question (it will throw an error if the line is there)\n",
    "\n",
    "**IMPORTANT:**\n",
    "\n",
    "* **DO NOT DELETE ANY CELL** and do not change the title of the Notebook.\n",
    "\n",
    "* Use the same variable names as the ones written in the questions; otherwise, the tests will fail.\n",
    "\n",
    "* Before you turn in your homework, make sure everything runs as expected: restart the kernel (in the menubar, select Kernel $\\rightarrow$ Restart) and then run all cells (in the menubar, select Cell $\\rightarrow$ Run All).\n",
    "\n",
    "Fill your name below:"
   ]
  },
  {
   "cell_type": "code",
   "execution_count": 1,
   "metadata": {},
   "outputs": [],
   "source": [
    "name = \"Honglin Leng\""
   ]
  },
  {
   "cell_type": "markdown",
   "metadata": {
    "deletable": false,
    "editable": false,
    "nbgrader": {
     "checksum": "91e575722180de513dcddd5c56cc0b03",
     "grade": false,
     "grade_id": "md-license",
     "locked": true,
     "schema_version": 1,
     "solution": false
    }
   },
   "source": [
    "###### Content under Creative Commons Attribution license CC-BY 4.0, code under MIT license (c)2014 L.A. Barba, C.D. Cooper, G.F. Forsyth.  "
   ]
  },
  {
   "cell_type": "markdown",
   "metadata": {
    "deletable": false,
    "editable": false,
    "nbgrader": {
     "checksum": "985d00058a00fe184be699a302d2c8d6",
     "grade": false,
     "grade_id": "md-title",
     "locked": true,
     "schema_version": 1,
     "solution": false
    }
   },
   "source": [
    "# Riding the wave"
   ]
  },
  {
   "cell_type": "markdown",
   "metadata": {
    "deletable": false,
    "editable": false,
    "nbgrader": {
     "checksum": "b67a8c9250aa7806826cbb49b45d0d70",
     "grade": false,
     "grade_id": "md-description",
     "locked": true,
     "schema_version": 1,
     "solution": false
    }
   },
   "source": [
    "## Sod's test problems\n",
    "\n",
    "Sod's test problems are standard benchmarks used to assess the accuracy of numerical solvers. The tests use a classic example of one-dimensional compressible flow: the shock-tube problem. Sod (1978) chose initial conditions and numerical discretization parameters for the shock-tube problem and used these to test several schemes, including Lax-Wendroff and MacCormack's. Since then, many others have followed Sod's example and used the same tests on new numerical methods.\n",
    "\n",
    "The shock-tube problem is so useful for testing numerical methods because it is one of the few problems that allows an exact solution of the Euler equations for compressible flow.\n",
    "\n",
    "This notebook complements the previous lessons of the course module [_\"Riding the wave: convection problems\"_](https://github.com/numerical-mooc/numerical-mooc/tree/master/lessons/03_wave) with Sod's test problems as an independent coding exercise. We'll lay out the problem for you, but leave important bits of code for you to write on your own. Good luck!\n",
    "\n",
    "### What's a shock tube?\n",
    "\n",
    "A shock tube is an idealized device that generates a one-dimensional shock wave in a compressible gas. The setting allows an analytical solution of the Euler equations, which is very useful for comparing with the numerical results to assess their accuracy. \n",
    "\n",
    "Picture a tube with two regions containing gas at different pressures, separated by an infinitely-thin, rigid diaphragm. The gas is initially at rest, and the left region is at a higher pressure than the region to the right of the diaphragm. At time $t = 0.0 s$, the diaphragm is ruptured instantaneously.  \n",
    "\n",
    "What happens?  \n",
    "\n",
    "You get a shock wave.  The gas at high pressure, no longer constrained by the diaphragm, rushes into the lower-pressure area and a one-dimensional unsteady flow is established, consisting of:\n",
    "\n",
    "* a shock wave traveling to the right\n",
    "* an expansion wave traveling to the left\n",
    "* a moving contact discontinuity\n",
    "\n",
    "The shock-tube problem is an example of a *Riemann problem* and it has an analytical solution, as we said. The situation is illustrated in Figure 1.\n",
    "\n",
    "![shocktube](./figures/shocktube.png)\n",
    "#### Figure 1. The shock-tube problem.\n",
    "\n",
    "### The Euler equations\n",
    "\n",
    "The Euler equations govern the motion of an inviscid fluid (no viscosity). They consist of the conservation laws of mass and momentum, and often we also need to work with the energy equation. \n",
    "\n",
    "Let's consider a 1D flow with velocity $u$ in the $x$-direction. The Euler equations for a fluid with density $\\rho$ and pressure $p$ are:\n",
    "\n",
    "$$\n",
    "\\begin{align}\n",
    "\\frac{\\partial \\rho}{\\partial t} + \\frac{\\partial}{\\partial x}(\\rho u) &= 0 \\\\\n",
    "\\frac{\\partial}{\\partial t}(\\rho u) + \\frac{\\partial}{\\partial x} (\\rho u^2 + p)&=0\n",
    "\\end{align}\n",
    "$$\n",
    "\n",
    "... plus the energy equation, which we can write in this form:\n",
    "\n",
    "$$\n",
    "\\begin{equation}\n",
    "\\frac{\\partial}{\\partial t}(\\rho e_T) + \\frac{\\partial}{\\partial x} (\\rho u e_T +p u)=0\n",
    "\\end{equation}\n",
    "$$\n",
    "\n",
    "where $e_T=e+u^2/2$ is the total energy per unit mass, equal to the internal energy plus the kinetic energy (per unit mass).\n",
    "\n",
    "Written in vector form, you can see that the Euler equations bear a strong resemblance to the traffic-density equation that has been the focus of this course module so far. Here is the vector representation of the Euler equation:\n",
    "\n",
    "$$\n",
    "\\begin{equation}\n",
    "\\frac{\\partial }{\\partial t} \\underline{\\mathbf{u}} + \\frac{\\partial }{\\partial x} \\underline{\\mathbf{f}} = 0\n",
    "\\end{equation}\n",
    "$$\n",
    "\n",
    "The big difference with our previous work is that the variables $\\underline{\\mathbf{u}}$ and $\\underline{\\mathbf{f}}$ are *vectors*.  If you review the [Phugoid Full Model](https://nbviewer.jupyter.org/github/numerical-mooc/numerical-mooc/blob/master/lessons/01_phugoid/01_03_PhugoidFullModel.ipynb) lesson, you will recall that we can solve for several values at once using the vector form of an equation.  In the Phugoid Module, it was an ODE—now we apply the same procedure to a PDE.  \n",
    "\n",
    "Let's take a look at what $\\underline{\\mathbf{u}}$ and $\\underline{\\mathbf{f}}$ consist of.\n",
    "\n",
    "### The conservative form\n",
    "\n",
    "Many works in the early days of computational fluid dynamics in the 1960s showed that using the conservation form of the Euler equations is more accurate for situations with shock waves.  And as you already saw, the shock-tube solutions do contain shocks.\n",
    "\n",
    "The conserved variables $\\underline{\\mathbf{u}}$ for Euler's equations are\n",
    "\n",
    "$$\n",
    "\\begin{equation}\n",
    "\\underline{\\mathbf{u}} = \\left[\n",
    "\\begin{array}{c}\n",
    "\\rho \\\\\n",
    "\\rho u \\\\\n",
    "\\rho e_T \\\\ \n",
    "\\end{array}\n",
    "\\right]\n",
    "\\end{equation}\n",
    "$$\n",
    "\n",
    "where $\\rho$ is the density of the fluid, $u$ is the velocity of the fluid and $e_T = e + \\frac{u^2}{2}$ is the specific total energy; $\\underline{\\mathbf{f}}$ is the flux vector:\n",
    "\n",
    "$$\n",
    "\\begin{equation}\n",
    "\\underline{\\mathbf{f}} = \\left[\n",
    "\\begin{array}{c}\n",
    "\\rho u \\\\\n",
    "\\rho u^2 + p \\\\\n",
    "(\\rho e_T + p) u \\\\\n",
    "\\end{array}\n",
    "\\right]\n",
    "\\end{equation}\n",
    "$$\n",
    "\n",
    "where $p$ is the pressure of the fluid.\n",
    "\n",
    "If we put together the conserved variables and the flux vector into our PDE, we get the following set of equations:\n",
    "\n",
    "$$\n",
    "\\begin{equation}\n",
    "    \\frac{\\partial}{\\partial t}\n",
    "    \\left[\n",
    "        \\begin{array}{c}\n",
    "            \\rho \\\\\n",
    "            \\rho u \\\\\n",
    "            \\rho e_T \\\\\n",
    "        \\end{array}\n",
    "    \\right] +\n",
    "    \\frac{\\partial}{\\partial x}\n",
    "    \\left[\n",
    "        \\begin{array}{c}\n",
    "            \\rho u \\\\\n",
    "            \\rho u^2 + p \\\\\n",
    "            (\\rho e_T + p) u \\\\\n",
    "        \\end{array}\n",
    "    \\right] =\n",
    "    0\n",
    "\\end{equation}\n",
    "$$\n",
    "\n",
    "There's one major problem there.  We have 3 equations and 4 unknowns.  But there is a solution!  We can use an equation of state to calculate the pressure—in this case, we'll use the ideal gas law.\n",
    "\n",
    "### Calculating the pressure\n",
    "\n",
    "For an ideal gas, the equation of state is\n",
    "\n",
    "$$\n",
    "e = e(\\rho, p) = \\frac{p}{(\\gamma -1) \\rho}\n",
    "$$\n",
    "\n",
    "where $\\gamma = 1.4$ is a reasonable value to model air, \n",
    "\n",
    "$$\n",
    "\\therefore p = (\\gamma -1)\\rho e\n",
    "$$ \n",
    "\n",
    "Recall from above that\n",
    "\n",
    "$$\n",
    "e_T = e+\\frac{1}{2} u^2\n",
    "$$\n",
    "\n",
    "$$\n",
    "\\therefore e = e_T - \\frac{1}{2}u^2\n",
    "$$\n",
    "\n",
    "Putting it all together, we arrive at an equation for the pressure\n",
    "\n",
    "$$\n",
    "p = (\\gamma -1)\\left(\\rho e_T - \\frac{\\rho u^2}{2}\\right)\n",
    "$$\n",
    "\n",
    "### Flux in terms of $\\underline{\\mathbf{u}}$\n",
    "\n",
    "With the traffic model, the flux was a function of traffic density.  For the Euler equations, the three equations we have are coupled and the flux *vector* is a function of $\\underline{\\mathbf{u}}$, the vector of conserved variables:\n",
    "\n",
    "$$\n",
    "\\underline{\\mathbf{f}} = f(\\underline{\\mathbf{u}})\n",
    "$$\n",
    "\n",
    "In order to get everything squared away, we need to represent $\\underline{\\mathbf{f}}$ in terms of $\\underline{\\mathbf{u}}$.\n",
    "We can introduce a little shorthand for the $\\underline{\\mathbf{u}}$ and $\\underline{\\mathbf{f}}$ vectors and define:\n",
    "\n",
    "$$\n",
    "\\underline{\\mathbf{u}} =\n",
    "\\left[\n",
    "    \\begin{array}{c}\n",
    "        u_1 \\\\\n",
    "        u_2 \\\\\n",
    "        u_3 \\\\\n",
    "    \\end{array}\n",
    "\\right] =\n",
    "\\left[\n",
    "    \\begin{array}{c}\n",
    "        \\rho \\\\\n",
    "        \\rho u \\\\\n",
    "        \\rho e_T \\\\\n",
    "    \\end{array}\n",
    "\\right]\n",
    "$$\n",
    "\n",
    "$$\n",
    "\\underline{\\mathbf{f}} =\n",
    "\\left[\n",
    "    \\begin{array}{c}\n",
    "        f_1 \\\\\n",
    "        f_2 \\\\\n",
    "        f_3 \\\\\n",
    "    \\end{array}\n",
    "\\right] =\n",
    "\\left[\n",
    "    \\begin{array}{c}\n",
    "        \\rho u \\\\\n",
    "        \\rho u^2 + p \\\\\n",
    "        (\\rho e_T + p) u \\\\\n",
    "    \\end{array}\n",
    "\\right]\n",
    "$$  \n",
    "\n",
    "With a little algebraic trickery, we can represent the pressure vector using quantities from the $\\underline{\\mathbf{u}}$ vector.\n",
    "\n",
    "$$\n",
    "p = (\\gamma -1)\\left(u_3 - \\frac{1}{2} \\frac{u^2_2}{u_1} \\right)\n",
    "$$\n",
    "\n",
    "Now that pressure can be represented in terms of $\\underline{\\mathbf{u}}$, the rest of $\\underline{\\mathbf{f}}$ isn't too difficult to resolve:\n",
    "\n",
    "$$\\underline{\\mathbf{f}} = \\left[ \\begin{array}{c}\n",
    "f_1 \\\\\n",
    "f_2 \\\\\n",
    "f_3 \\\\ \\end{array} \\right] =\n",
    "\\left[ \\begin{array}{c}\n",
    "u_2\\\\\n",
    "\\frac{u^2_2}{u_1} + (\\gamma -1)\\left(u_3 - \\frac{1}{2} \\frac{u^2_2}{u_1} \\right) \\\\\n",
    "\\left(u_3 + (\\gamma -1)\\left(u_3 - \\frac{1}{2} \\frac{u^2_2}{u_1}\\right) \\right) \\frac{u_2}{u_1}\\\\ \\end{array}\n",
    "\\right]$$\n",
    "\n",
    "## Test conditions\n",
    "\n",
    "The first test proposed by Sod in his 1978 paper is as follows.  \n",
    "\n",
    "In a tube spanning from $x = -10 \\text{m}$ to $x = 10 \\text{m}$ with the rigid membrane at $x = 0 \\text{m}$, we have the following initial gas states:\n",
    "\n",
    "$$\n",
    "\\underline{IC}_L =\n",
    "\\left[\n",
    "    \\begin{array}{c}\n",
    "        \\rho_L \\\\\n",
    "        u_L \\\\\n",
    "        p_L \\\\\n",
    "    \\end{array}\n",
    "\\right] =\n",
    "\\left[\n",
    "    \\begin{array}{c}\n",
    "        1.0 \\, kg/m^3 \\\\\n",
    "        0 \\, m/s \\\\\n",
    "        100 \\, kN/m^2 \\\\\n",
    "    \\end{array}\n",
    "\\right]\n",
    "$$\n",
    "\n",
    "$$\n",
    "\\underline{IC}_R =\n",
    "\\left[\n",
    "    \\begin{array}{c}\n",
    "        \\rho_R \\\\\n",
    "        u_R \\\\\n",
    "        p_R \\\\\n",
    "    \\end{array}\n",
    "\\right] =\n",
    "\\left[\n",
    "    \\begin{array}{c}\n",
    "        0.125 \\, kg/m^3 \\\\\n",
    "        0 \\, m/s \\\\\n",
    "        10 \\, kN/m^2 \\\\\n",
    "    \\end{array}\n",
    "\\right]\n",
    "$$\n",
    "\n",
    "where $\\underline{IC}_L$ are the initial density, velocity and pressure on the left side of the tube membrane and $\\underline{IC}_R$ are the initial density, velocity and pressure on the right side of the tube membrane.  \n",
    "\n",
    "The analytical solution to this test for the velocity, pressure and density, looks like the plots in Figure 2.\n",
    "\n",
    "![shock_analytic](./figures/shock_tube_.01.png)\n",
    "#### Figure 2. Analytical solution for Sod's first test.\n",
    "\n",
    "### The Richtmyer method\n",
    "\n",
    "For this exercise, you will be using a new scheme called the Richtmyer method.  Like the MacCormack method that we learned in [lesson 2](https://nbviewer.jupyter.org/github/numerical-mooc/numerical-mooc/blob/master/lessons/03_wave/03_02_convectionSchemes.ipynb), Richtmyer is a *two-step method*, given by:\n",
    "\n",
    "$$\n",
    "\\begin{align}\n",
    "\\underline{\\mathbf{u}}^{n+\\frac{1}{2}}_{i+\\frac{1}{2}} &= \\frac{1}{2} \\left( \\underline{\\mathbf{u}}^n_{i+1} + \\underline{\\mathbf{u}}^n_i \\right) - \n",
    "\\frac{\\Delta t}{2 \\Delta x} \\left( \\underline{\\mathbf{f}}^n_{i+1} - \\underline{\\mathbf{f}}^n_i\\right) \\\\\n",
    "\\underline{\\mathbf{u}}^{n+1}_i &= \\underline{\\mathbf{u}}^n_i - \\frac{\\Delta t}{\\Delta x} \\left(\\underline{\\mathbf{f}}^{n+\\frac{1}{2}}_{i+\\frac{1}{2}} - \\underline{\\mathbf{f}}^{n+\\frac{1}{2}}_{i-\\frac{1}{2}} \\right)\n",
    "\\end{align}\n",
    "$$\n",
    "\n",
    "The flux vectors used in the second step are obtained by evaluating the flux functions on the output of the first step:\n",
    "\n",
    "$$\n",
    "\\underline{\\mathbf{f}}^{n+\\frac{1}{2}}_{i+\\frac{1}{2}} = \\underline{\\mathbf{f}}\\left(\\underline{\\mathbf{u}}^{n+\\frac{1}{2}}_{i+\\frac{1}{2}}\\right)\n",
    "$$\n",
    "\n",
    "The first step is like a *predictor* of the solution: if you look closely, you'll see that we are applying a Lax-Friedrichs scheme here. The second step is a *corrector* that applies a leapfrog update. Figure 3 gives a sketch of the stencil for Richtmyer method, where the \"intermediate time\" $n+1/2$ will require a temporary variable in your code, just like we had in the MacCormack scheme.\n",
    "\n",
    "![richtmyer](./figures/richtmyer.png)\n",
    "\n",
    "\n",
    "#### Figure 3. Stencil of Richtmyer scheme."
   ]
  },
  {
   "cell_type": "markdown",
   "metadata": {
    "deletable": false,
    "editable": false,
    "nbgrader": {
     "checksum": "c58afd46f0c94dd3f64e5e344936806c",
     "grade": false,
     "grade_id": "md-instructions",
     "locked": true,
     "schema_version": 1,
     "solution": false
    }
   },
   "source": [
    "---\n",
    "## Coding assignment\n",
    "\n",
    "Your mission, should you wish to accept it, is to calculate the pressure, density and velocity across the shock tube at time $t = 0.01 s$ using the Richtmyer method. Good luck!\n",
    "\n",
    "Code parameters to use:\n",
    "\n",
    "* Number of discrete points along the 1D domain: `nx = 81` (which gives `dx = 0.25` for a domain of length 20).\n",
    "* Time-step size: `dt = 0.0002`.\n",
    "* Heat capacity ratio: `gamma = 1.4`."
   ]
  },
  {
   "cell_type": "markdown",
   "metadata": {
    "deletable": false,
    "editable": false,
    "nbgrader": {
     "checksum": "d3ce2bfa34326f0308d97f2555986ab1",
     "grade": false,
     "grade_id": "md-student-solutio",
     "locked": true,
     "schema_version": 1,
     "solution": false
    }
   },
   "source": [
    "---\n",
    "## Implement your solution (20 points)\n",
    "\n",
    "Implement your solution in this section.\n",
    "You can use as many code cells as you want."
   ]
  },
  {
   "cell_type": "code",
   "execution_count": 2,
   "metadata": {
    "deletable": false,
    "nbgrader": {
     "checksum": "fe77475a023bc58c75ab1393692d62a3",
     "grade": true,
     "grade_id": "code-solution",
     "locked": false,
     "points": 20,
     "schema_version": 1,
     "solution": true
    }
   },
   "outputs": [],
   "source": [
    "%matplotlib inline\n",
    "import numpy as np\n",
    "from matplotlib import pyplot as plt\n",
    "from matplotlib import rcParams\n",
    "rcParams['font.family'] = 'serif'\n",
    "rcParams['font.size'] = 16"
   ]
  },
  {
   "cell_type": "code",
   "execution_count": 3,
   "metadata": {},
   "outputs": [],
   "source": [
    "#initial conditions\n",
    "dt = 0.0002\n",
    "gamma = 1.4\n",
    "nx = 81\n",
    "dx = 0.25\n",
    "t = 0.01\n",
    "nt = int(t/dt)+1\n",
    "x = np.linspace(-10, 10, nx)"
   ]
  },
  {
   "cell_type": "code",
   "execution_count": 4,
   "metadata": {},
   "outputs": [],
   "source": [
    "u_i = np.zeros_like(x)\n",
    "rho_i = np.ones_like(x)\n",
    "p_i = np.empty_like(x)\n",
    "rho_i[int((nx-1)/2):] = 0.125\n",
    "p_i[:] = 100000\n",
    "p_i[int((nx-1)/2):] = 10000"
   ]
  },
  {
   "cell_type": "code",
   "execution_count": 5,
   "metadata": {},
   "outputs": [],
   "source": [
    "def computef(u):\n",
    "    f = np.zeros_like(u)\n",
    "    u1 = u[0,]\n",
    "    u2 = u[1,]\n",
    "    u3 = u[2,]\n",
    "\n",
    "    f[0,] = u2\n",
    "    f[1,] = u2**2/u1 + (gamma-1)*(u3 - 0.5*(u2**2/u1))\n",
    "    f[2,] = (u3+(gamma-1)*(u3-0.5*(u2**2/u1)))*u2/u1\n",
    "    return f"
   ]
  },
  {
   "cell_type": "code",
   "execution_count": 6,
   "metadata": {},
   "outputs": [],
   "source": [
    "def computeet(p,rho,u):\n",
    "    et = (p/((gamma-1)*rho)) + 0.5*u**2\n",
    "    return et"
   ]
  },
  {
   "cell_type": "code",
   "execution_count": 7,
   "metadata": {},
   "outputs": [],
   "source": [
    "ET = computeet(p_i,rho_i,u_i)\n",
    "u = np.zeros((3,nx))\n",
    "u[0,] = rho_i\n",
    "u[1,] = rho_i*u_i\n",
    "u[2,] = rho_i*ET"
   ]
  },
  {
   "cell_type": "code",
   "execution_count": 8,
   "metadata": {},
   "outputs": [],
   "source": [
    "un = np.zeros_like(u)\n",
    "u_star = np.zeros_like(u)\n",
    "flux = np.zeros_like(u)\n",
    "flux_star = np.zeros_like(u)\n",
    "\n",
    "# Richtmyer Method   \n",
    "for n in range (1,nt):\n",
    "    #first step\n",
    "    un = u.copy()\n",
    "    flux = computef(u)\n",
    "    u_star[:,:-1] = 0.5*(un[:,1:] + un[:,:-1]) - dt/(2*dx) *(flux[:,1:]-flux[:,:-1])\n",
    "    u_star[:,-1] = u[:,-1]\n",
    "    #second step\n",
    "    flux_star = computef(u_star)\n",
    "    u[:,1:-1] = un[:,1:-1] - dt/dx * (flux_star[:,1:-1] - flux_star[:,:-2])"
   ]
  },
  {
   "cell_type": "code",
   "execution_count": null,
   "metadata": {},
   "outputs": [],
   "source": []
  },
  {
   "cell_type": "markdown",
   "metadata": {
    "deletable": false,
    "editable": false,
    "nbgrader": {
     "checksum": "b69e29b08cc178edc192e26215dc2757",
     "grade": false,
     "grade_id": "md-assessment-title",
     "locked": true,
     "schema_version": 1,
     "solution": false
    }
   },
   "source": [
    "---\n",
    "## Assessment"
   ]
  },
  {
   "cell_type": "markdown",
   "metadata": {
    "deletable": false,
    "editable": false,
    "nbgrader": {
     "checksum": "bea8066febf6a86b2d8f7dff6f5721ce",
     "grade": false,
     "grade_id": "md-assessment-instructions",
     "locked": true,
     "schema_version": 1,
     "solution": false
    }
   },
   "source": [
    "Answer questions in this section.\n",
    "\n",
    "Do not try to delete or modify the cells that are already present.\n",
    "For each question, make sure to provide your answer in the cell above the empty cell.\n",
    "(This empty cell contains hidden tests to assert the correctness of your answer and cannot be deleted.)"
   ]
  },
  {
   "cell_type": "code",
   "execution_count": 9,
   "metadata": {
    "deletable": false,
    "editable": false,
    "nbgrader": {
     "checksum": "505b1d5970676f7e263847dbbe0547e3",
     "grade": false,
     "grade_id": "import-mooc",
     "locked": true,
     "schema_version": 1,
     "solution": false
    }
   },
   "outputs": [],
   "source": [
    "import mooc"
   ]
  },
  {
   "cell_type": "markdown",
   "metadata": {
    "deletable": false,
    "editable": false,
    "nbgrader": {
     "checksum": "9cebee146e6ec62ddf7c139146a691a0",
     "grade": false,
     "grade_id": "md-question1",
     "locked": true,
     "schema_version": 1,
     "solution": false
    }
   },
   "source": [
    "* Q1 (10 points): Create and display Matplotlib figures for the density, velocity, and pressure solution after $t = 0.01 s$.\n",
    "\n",
    "Create one figure for each variable and make sure to label your axes."
   ]
  },
  {
   "cell_type": "code",
   "execution_count": 10,
   "metadata": {
    "deletable": false,
    "nbgrader": {
     "checksum": "e542781adc80ed477d7ba2de1cafb76d",
     "grade": true,
     "grade_id": "code-answer1",
     "locked": false,
     "points": 10,
     "schema_version": 1,
     "solution": true
    }
   },
   "outputs": [
    {
     "data": {
      "text/plain": [
       "Text(0.5,1,'Pressure at t=0.01s')"
      ]
     },
     "execution_count": 10,
     "metadata": {},
     "output_type": "execute_result"
    },
    {
     "data": {
      "image/png": "[encoded data removed]",
      "text/plain": [
       "<Figure size 432x288 with 1 Axes>"
      ]
     },
     "metadata": {},
     "output_type": "display_data"
    },
    {
     "data": {
      "image/png": "[encoded data removed]",
      "text/plain": [
       "<Figure size 432x288 with 1 Axes>"
      ]
     },
     "metadata": {},
     "output_type": "display_data"
    },
    {
     "data": {
      "image/png": "[encoded data removed]",
      "text/plain": [
       "<Figure size 432x288 with 1 Axes>"
      ]
     },
     "metadata": {},
     "output_type": "display_data"
    }
   ],
   "source": [
    "plt.figure(1)\n",
    "plt.plot(x,(un[0,:]))\n",
    "plt.title('Density at t=0.01s')\n",
    "\n",
    "plt.figure(2)\n",
    "plt.plot(x,(un[1,:]/un[0,:]))\n",
    "plt.title('Velocity at t=0.01s')\n",
    "\n",
    "plt.figure(3)\n",
    "plt.plot(x,((gamma - 1)*(un[-1,:]-0.5*un[1,:]**2/un[0,:])))\n",
    "plt.title('Pressure at t=0.01s')"
   ]
  },
  {
   "cell_type": "markdown",
   "metadata": {
    "deletable": false,
    "editable": false,
    "nbgrader": {
     "checksum": "debdf935035371d770256d55628dfe64",
     "grade": false,
     "grade_id": "md-question2",
     "locked": true,
     "schema_version": 1,
     "solution": false
    }
   },
   "source": [
    "* Q2 (10 points): At $t = 0.01 s$, what's the value of the density at position $x = 2.5 m$ (in $kg/m^3$)?\n",
    "\n",
    "Store your result in the variable `rho1`; you can check your answer by calling the function `mooc.check('hw3_answer2', rho1)`."
   ]
  },
  {
   "cell_type": "code",
   "execution_count": 11,
   "metadata": {
    "deletable": false,
    "nbgrader": {
     "checksum": "44cf1ffb59a861534e541909524b07b3",
     "grade": false,
     "grade_id": "code-answer2",
     "locked": false,
     "schema_version": 1,
     "solution": true
    }
   },
   "outputs": [
    {
     "name": "stdout",
     "output_type": "stream",
     "text": [
      "0.3746914026476011\n"
     ]
    }
   ],
   "source": [
    "rho1 = u[0,int((10+2.5)/dx)]\n",
    "print(rho1)"
   ]
  },
  {
   "cell_type": "code",
   "execution_count": 12,
   "metadata": {},
   "outputs": [
    {
     "name": "stdout",
     "output_type": "stream",
     "text": [
      "[hw3_answer2] Good job!\n"
     ]
    }
   ],
   "source": [
    "mooc.check('hw3_answer2', rho1)"
   ]
  },
  {
   "cell_type": "code",
   "execution_count": null,
   "metadata": {
    "deletable": false,
    "editable": false,
    "nbgrader": {
     "checksum": "1c86d4f1c553033adb9135d8720c45f3",
     "grade": true,
     "grade_id": "code-check2",
     "locked": true,
     "points": 10,
     "schema_version": 1,
     "solution": false
    }
   },
   "outputs": [],
   "source": []
  },
  {
   "cell_type": "markdown",
   "metadata": {
    "deletable": false,
    "editable": false,
    "nbgrader": {
     "checksum": "e432d0d4b965826ed19bf1d5e4409f2a",
     "grade": false,
     "grade_id": "md-question3",
     "locked": true,
     "schema_version": 1,
     "solution": false
    }
   },
   "source": [
    "* Q3 (10 points): At $t = 0.01 s$, what's the value of the velocity at position $x = 2.5 m$ (in $m/s$)?\n",
    "\n",
    "Store your result in the variable `v1`; you can check your answer by calling the function `mooc.check('hw3_answer3', v1)`."
   ]
  },
  {
   "cell_type": "code",
   "execution_count": 13,
   "metadata": {
    "deletable": false,
    "nbgrader": {
     "checksum": "0736834133e3eb88d6c0b674092b37e2",
     "grade": false,
     "grade_id": "code-answer3",
     "locked": false,
     "schema_version": 1,
     "solution": true
    }
   },
   "outputs": [
    {
     "name": "stdout",
     "output_type": "stream",
     "text": [
      "292.6114715268268\n"
     ]
    }
   ],
   "source": [
    "v1 = u[1,int((10+2.5)/dx)]/u[0,int((10+2.5)/dx)]\n",
    "print(v1)"
   ]
  },
  {
   "cell_type": "code",
   "execution_count": 14,
   "metadata": {},
   "outputs": [
    {
     "name": "stdout",
     "output_type": "stream",
     "text": [
      "[hw3_answer3] Good job!\n"
     ]
    }
   ],
   "source": [
    "mooc.check('hw3_answer3', v1)"
   ]
  },
  {
   "cell_type": "code",
   "execution_count": null,
   "metadata": {
    "deletable": false,
    "editable": false,
    "nbgrader": {
     "checksum": "4d968db8c22db063ee1a96de39381f80",
     "grade": true,
     "grade_id": "code-check3",
     "locked": true,
     "points": 10,
     "schema_version": 1,
     "solution": false
    }
   },
   "outputs": [],
   "source": []
  },
  {
   "cell_type": "markdown",
   "metadata": {
    "deletable": false,
    "editable": false,
    "nbgrader": {
     "checksum": "6570c7f83f21714459577025d9bd24ea",
     "grade": false,
     "grade_id": "md-question4",
     "locked": true,
     "schema_version": 1,
     "solution": false
    }
   },
   "source": [
    "* Q4 (10 points): At $t = 0.01 s$, what's the value of the pressure at position $x = 2.5 m$ (in $N/m^2$)?\n",
    "\n",
    "Store your result in the variable `p1`; you can check your answer by calling the function `mooc.check('hw3_answer4', p1)`."
   ]
  },
  {
   "cell_type": "code",
   "execution_count": 15,
   "metadata": {
    "deletable": false,
    "nbgrader": {
     "checksum": "128d72e5de3f80e615121e757f41d90f",
     "grade": false,
     "grade_id": "code-answer4",
     "locked": false,
     "schema_version": 1,
     "solution": true
    }
   },
   "outputs": [
    {
     "name": "stdout",
     "output_type": "stream",
     "text": [
      "30250.890167572015\n"
     ]
    }
   ],
   "source": [
    "a1 = u[0,int((10+2.5)/dx)]\n",
    "a2 = u[1,int((10+2.5)/dx)]\n",
    "a3 = u[2,int((10+2.5)/dx)]\n",
    "p1 = (gamma-1)*(a3-0.5*((a2**2)/a1))\n",
    "print(p1)"
   ]
  },
  {
   "cell_type": "code",
   "execution_count": 16,
   "metadata": {},
   "outputs": [
    {
     "name": "stdout",
     "output_type": "stream",
     "text": [
      "[hw3_answer4] Good job!\n"
     ]
    }
   ],
   "source": [
    "mooc.check('hw3_answer4', p1)"
   ]
  },
  {
   "cell_type": "code",
   "execution_count": null,
   "metadata": {
    "deletable": false,
    "editable": false,
    "nbgrader": {
     "checksum": "a943b01630804ea1dcf4895f91327b30",
     "grade": true,
     "grade_id": "code-check4",
     "locked": true,
     "points": 10,
     "schema_version": 1,
     "solution": false
    }
   },
   "outputs": [],
   "source": []
  },
  {
   "cell_type": "markdown",
   "metadata": {
    "deletable": false,
    "editable": false,
    "nbgrader": {
     "checksum": "95ff3fc997624f488fb2889532dcb5b8",
     "grade": false,
     "grade_id": "md-question5",
     "locked": true,
     "schema_version": 1,
     "solution": false
    }
   },
   "source": [
    "* Q5 (10 points): At $t = 0.01 s$, what's the value of the entropy at position $x = -1.5 m$ (in $J/kg/K$)?\n",
    "\n",
    "The entropy $s$ is defined as:\n",
    "\n",
    "$$\n",
    "s = \\frac{p}{\\rho^\\gamma}\n",
    "$$\n",
    "\n",
    "Store your result in the variable `s1`; you can check your answer by calling the function `mooc.check('hw3_answer5', s1)`."
   ]
  },
  {
   "cell_type": "code",
   "execution_count": 17,
   "metadata": {
    "deletable": false,
    "nbgrader": {
     "checksum": "5b478ed078c39a44f1f098306ee3b4e4",
     "grade": false,
     "grade_id": "code-answer5",
     "locked": false,
     "schema_version": 1,
     "solution": true
    }
   },
   "outputs": [
    {
     "name": "stdout",
     "output_type": "stream",
     "text": [
      "100697.043028669\n"
     ]
    }
   ],
   "source": [
    "rho15 = u[0,int((10-1.5)/dx)]\n",
    "a1 = u[0,int((10-1.5)/dx)]\n",
    "a2 = u[1,int((10-1.5)/dx)]\n",
    "a3 = u[2,int((10-1.5)/dx)]\n",
    "p = (gamma-1)*(a3-0.5*((a2**2)/a1))\n",
    "s1 = p/(rho15**gamma)\n",
    "print(s1)"
   ]
  },
  {
   "cell_type": "code",
   "execution_count": 18,
   "metadata": {},
   "outputs": [
    {
     "name": "stdout",
     "output_type": "stream",
     "text": [
      "[hw3_answer5] Good job!\n"
     ]
    }
   ],
   "source": [
    "mooc.check('hw3_answer5', s1)"
   ]
  },
  {
   "cell_type": "code",
   "execution_count": null,
   "metadata": {
    "deletable": false,
    "editable": false,
    "nbgrader": {
     "checksum": "f7c832f72b69d1b066586ae28de9b4b7",
     "grade": true,
     "grade_id": "code-check5",
     "locked": true,
     "points": 10,
     "schema_version": 1,
     "solution": false
    }
   },
   "outputs": [],
   "source": []
  },
  {
   "cell_type": "markdown",
   "metadata": {
    "deletable": false,
    "editable": false,
    "nbgrader": {
     "checksum": "6ffa923fbb68b50596be07ec63fdb690",
     "grade": false,
     "grade_id": "md-question6",
     "locked": true,
     "schema_version": 1,
     "solution": false
    }
   },
   "source": [
    "* Q6 (10 points): At $t = 0.01 s$, what's the value of the speed of sound at position $x = -1.5 m$ (in $m/s$)?\n",
    "\n",
    "The speed of sound $a$ is defined as:\n",
    "\n",
    "$$\n",
    "a = \\sqrt{\\frac{\\gamma p}{\\rho}}\n",
    "$$\n",
    "\n",
    "Store your result in the variable `a1`; you can check your answer by calling the function `mooc.check('hw3_answer6', a1)`."
   ]
  },
  {
   "cell_type": "code",
   "execution_count": 19,
   "metadata": {
    "deletable": false,
    "nbgrader": {
     "checksum": "823d72b98a21ac5071ad9215cb3286a7",
     "grade": false,
     "grade_id": "code-answer6",
     "locked": false,
     "schema_version": 1,
     "solution": true
    }
   },
   "outputs": [
    {
     "name": "stdout",
     "output_type": "stream",
     "text": [
      "337.9248640634445\n"
     ]
    }
   ],
   "source": [
    "rho16 = u[0,int((10-1.5)/dx)]\n",
    "p = (gamma-1)*(a3-0.5*((a2**2)/a1))\n",
    "a1 = np.sqrt(gamma*p/rho16)\n",
    "print(a1)"
   ]
  },
  {
   "cell_type": "code",
   "execution_count": 20,
   "metadata": {},
   "outputs": [
    {
     "name": "stdout",
     "output_type": "stream",
     "text": [
      "[hw3_answer6] Good job!\n"
     ]
    }
   ],
   "source": [
    "mooc.check('hw3_answer6', a1)"
   ]
  },
  {
   "cell_type": "code",
   "execution_count": null,
   "metadata": {
    "deletable": false,
    "editable": false,
    "nbgrader": {
     "checksum": "7afea1f6d8431644cd85f0db0d9748f2",
     "grade": true,
     "grade_id": "code-check6",
     "locked": true,
     "points": 10,
     "schema_version": 1,
     "solution": false
    }
   },
   "outputs": [],
   "source": []
  },
  {
   "cell_type": "markdown",
   "metadata": {
    "deletable": false,
    "editable": false,
    "nbgrader": {
     "checksum": "d6bddd58cb099f32336df60300f1000a",
     "grade": false,
     "grade_id": "md-question7",
     "locked": true,
     "schema_version": 1,
     "solution": false
    }
   },
   "source": [
    "* Q7 (10 points): At $t = 0.01 s$, what's the value of the Mach number at position $x = -1.5 m$?\n",
    "\n",
    "Hint: the Mach number is the ratio between the velocity and the speed of sound.\n",
    "\n",
    "Store your result in the variable `M1`; you can check your answer by calling the function `mooc.check('hw3_answer7', M1)`."
   ]
  },
  {
   "cell_type": "code",
   "execution_count": 21,
   "metadata": {
    "deletable": false,
    "nbgrader": {
     "checksum": "ae6fd2b4349c8f65d96930ebf34f7708",
     "grade": false,
     "grade_id": "code-answer7",
     "locked": false,
     "schema_version": 1,
     "solution": true
    }
   },
   "outputs": [
    {
     "name": "stdout",
     "output_type": "stream",
     "text": [
      "0.5483352954050432\n"
     ]
    }
   ],
   "source": [
    "v2 = u[1,int((10-1.5)/dx)]/u[0,int((10-1.5)/dx)]\n",
    "M1 = v2/a1\n",
    "print(M1)"
   ]
  },
  {
   "cell_type": "code",
   "execution_count": 22,
   "metadata": {},
   "outputs": [
    {
     "name": "stdout",
     "output_type": "stream",
     "text": [
      "[hw3_answer7] Good job!\n"
     ]
    }
   ],
   "source": [
    "mooc.check('hw3_answer7', M1)"
   ]
  },
  {
   "cell_type": "code",
   "execution_count": null,
   "metadata": {
    "deletable": false,
    "editable": false,
    "nbgrader": {
     "checksum": "7028c16ea5540aad2d219b553df71065",
     "grade": true,
     "grade_id": "code-check7",
     "locked": true,
     "points": 10,
     "schema_version": 1,
     "solution": false
    }
   },
   "outputs": [],
   "source": []
  },
  {
   "cell_type": "markdown",
   "metadata": {
    "deletable": false,
    "editable": false,
    "nbgrader": {
     "checksum": "7839dc3e560acc145fce899e111e0755",
     "grade": false,
     "grade_id": "md-references",
     "locked": true,
     "schema_version": 1,
     "solution": false
    }
   },
   "source": [
    "## Reference\n",
    "\n",
    "* Sod, Gary A. (1978), \"A survey of several finite difference methods for systems of nonlinear hyperbolic conservation laws,\" *J. Comput. Phys.*, Vol. 27, pp. 1–31 DOI: [10.1016/0021-9991(78)90023-2](http://dx.doi.org/10.1016%2F0021-9991%2878%2990023-2) // [PDF from unicamp.br](http://www.fem.unicamp.br/~phoenics/EM974/TG%20PHOENICS/BRUNO%20GALETTI%20TG%202013/a%20survey%20of%20several%20finite%20difference%20methods%20for%20systems%20of%20nonlinear%20hyperbolic%20conservation%20laws%20Sod%201978.pdf), checked Oct. 28, 2014."
   ]
  },
  {
   "cell_type": "markdown",
   "metadata": {
    "deletable": false,
    "editable": false,
    "nbgrader": {
     "checksum": "cb79bd46f44078b6c98ad8450b174e10",
     "grade": false,
     "grade_id": "md-style",
     "locked": true,
     "schema_version": 1,
     "solution": false
    }
   },
   "source": [
    "---\n",
    "\n",
    "###### The cell below loads the style of the notebook."
   ]
  },
  {
   "cell_type": "code",
   "execution_count": 23,
   "metadata": {
    "deletable": false,
    "editable": false,
    "nbgrader": {
     "checksum": "c90cfcc0edfc860fbcdb3fde43751116",
     "grade": false,
     "grade_id": "code-style",
     "locked": true,
     "schema_version": 1,
     "solution": false
    }
   },
   "outputs": [
    {
     "data": {
      "text/html": [
       "<link href='http://fonts.googleapis.com/css?family=Alegreya+Sans:100,300,400,500,700,800,900,100italic,300italic,400italic,500italic,700italic,800italic,900italic' rel='stylesheet' type='text/css'>\n",
       "<link href='http://fonts.googleapis.com/css?family=Arvo:400,700,400italic' rel='stylesheet' type='text/css'>\n",
       "<link href='http://fonts.googleapis.com/css?family=PT+Mono' rel='stylesheet' type='text/css'>\n",
       "<link href='http://fonts.googleapis.com/css?family=Shadows+Into+Light' rel='stylesheet' type='text/css'>\n",
       "<link href='http://fonts.googleapis.com/css?family=Nixie+One' rel='stylesheet' type='text/css'>\n",
       "<link href='https://fonts.googleapis.com/css?family=Source+Code+Pro' rel='stylesheet' type='text/css'>\n",
       "<style>\n",
       "\n",
       "@font-face {\n",
       "    font-family: \"Computer Modern\";\n",
       "    src: url('http://mirrors.ctan.org/fonts/cm-unicode/fonts/otf/cmunss.otf');\n",
       "}\n",
       "\n",
       "#notebook_panel { /* main background */\n",
       "    background: rgb(245,245,245);\n",
       "}\n",
       "\n",
       "div.cell { /* set cell width */\n",
       "    width: 750px;\n",
       "}\n",
       "\n",
       "div #notebook { /* centre the content */\n",
       "    background: #fff; /* white background for content */\n",
       "    width: 1000px;\n",
       "    margin: auto;\n",
       "    padding-left: 0em;\n",
       "}\n",
       "\n",
       "#notebook li { /* More space between bullet points */\n",
       "    margin-top:0.8em;\n",
       "}\n",
       "\n",
       "/* draw border around running cells */\n",
       "div.cell.border-box-sizing.code_cell.running { \n",
       "    border: 1px solid #111;\n",
       "}\n",
       "\n",
       "/* Put a solid color box around each cell and its output, visually linking them*/\n",
       "div.cell.code_cell {\n",
       "    background-color: rgb(256,256,256); \n",
       "    border-radius: 0px; \n",
       "    padding: 0.5em;\n",
       "    margin-left:1em;\n",
       "    margin-top: 1em;\n",
       "}\n",
       "\n",
       "div.text_cell_render{\n",
       "    font-family: 'Alegreya Sans' sans-serif;\n",
       "    line-height: 140%;\n",
       "    font-size: 125%;\n",
       "    font-weight: 400;\n",
       "    width:600px;\n",
       "    margin-left:auto;\n",
       "    margin-right:auto;\n",
       "}\n",
       "\n",
       "\n",
       "/* Formatting for header cells */\n",
       ".text_cell_render h1 {\n",
       "    font-family: 'Nixie One', serif;\n",
       "    font-style:regular;\n",
       "    font-weight: 400;    \n",
       "    font-size: 45pt;\n",
       "    line-height: 100%;\n",
       "    color: rgb(0,51,102);\n",
       "    margin-bottom: 0.5em;\n",
       "    margin-top: 0.5em;\n",
       "    display: block;\n",
       "}\n",
       "\n",
       ".text_cell_render h2 {\n",
       "    font-family: 'Nixie One', serif;\n",
       "    font-weight: 400;\n",
       "    font-size: 30pt;\n",
       "    line-height: 100%;\n",
       "    color: rgb(0,51,102);\n",
       "    margin-bottom: 0.1em;\n",
       "    margin-top: 0.3em;\n",
       "    display: block;\n",
       "}\t\n",
       "\n",
       ".text_cell_render h3 {\n",
       "    font-family: 'Nixie One', serif;\n",
       "    margin-top:16px;\n",
       "    font-size: 22pt;\n",
       "    font-weight: 600;\n",
       "    margin-bottom: 3px;\n",
       "    font-style: regular;\n",
       "    color: rgb(102,102,0);\n",
       "}\n",
       "\n",
       ".text_cell_render h4 {    /*Use this for captions*/\n",
       "    font-family: 'Nixie One', serif;\n",
       "    font-size: 14pt;\n",
       "    text-align: center;\n",
       "    margin-top: 0em;\n",
       "    margin-bottom: 2em;\n",
       "    font-style: regular;\n",
       "}\n",
       "\n",
       ".text_cell_render h5 {  /*Use this for small titles*/\n",
       "    font-family: 'Nixie One', sans-serif;\n",
       "    font-weight: 400;\n",
       "    font-size: 16pt;\n",
       "    color: rgb(163,0,0);\n",
       "    font-style: italic;\n",
       "    margin-bottom: .1em;\n",
       "    margin-top: 0.8em;\n",
       "    display: block;\n",
       "}\n",
       "\n",
       ".text_cell_render h6 { /*use this for copyright note*/\n",
       "    font-family: 'PT Mono', sans-serif;\n",
       "    font-weight: 300;\n",
       "    font-size: 9pt;\n",
       "    line-height: 100%;\n",
       "    color: grey;\n",
       "    margin-bottom: 1px;\n",
       "    margin-top: 1px;\n",
       "}\n",
       "\n",
       ".CodeMirror{\n",
       "    font-family: \"Source Code Pro\";\n",
       "    font-size: 90%;\n",
       "}\n",
       "\n",
       ".alert-box {\n",
       "    padding:10px 10px 10px 36px;\n",
       "    margin:5px;\n",
       "}\n",
       "\n",
       ".success {\n",
       "    color:#666600;\n",
       "    background:rgb(240,242,229);\n",
       "}\n",
       "</style>\n",
       "\n",
       "<script>\n",
       "    MathJax.Hub.Config({\n",
       "                        TeX: {\n",
       "                            extensions: [\"AMSmath.js\"],\n",
       "                            equationNumbers: { autoNumber: \"AMS\", useLabelIds: true}\n",
       "                            },\n",
       "                        tex2jax: {\n",
       "                            inlineMath: [ ['$','$'], [\"\\\\(\",\"\\\\)\"] ],\n",
       "                            displayMath: [ ['$$','$$'], [\"\\\\[\",\"\\\\]\"] ]\n",
       "                            },\n",
       "                        displayAlign: 'center', // Change this to 'center' to center equations.\n",
       "                        \"HTML-CSS\": {\n",
       "                            styles: {'.MathJax_Display': {\"margin\": 4}}\n",
       "                            }\n",
       "                        });\n",
       "    MathJax.Hub.Queue(\n",
       "                      [\"resetEquationNumbers\", MathJax.InputJax.TeX],\n",
       "                      [\"PreProcess\", MathJax.Hub],\n",
       "                      [\"Reprocess\", MathJax.Hub]\n",
       "                     );\n",
       "</script>\n"
      ],
      "text/plain": [
       "<IPython.core.display.HTML object>"
      ]
     },
     "execution_count": 23,
     "metadata": {},
     "output_type": "execute_result"
    }
   ],
   "source": [
    "from IPython.core.display import HTML\n",
    "css_file = 'styles/numericalmoocstyle.css'\n",
    "HTML(open(css_file, 'r').read())"
   ]
  }
 ],
 "metadata": {
  "kernelspec": {
   "display_name": "Python 3",
   "language": "python",
   "name": "python3"
  },
  "language_info": {
   "codemirror_mode": {
    "name": "ipython",
    "version": 3
   },
   "file_extension": ".py",
   "mimetype": "text/x-python",
   "name": "python",
   "nbconvert_exporter": "python",
   "pygments_lexer": "ipython3",
   "version": "3.6.2"
  }
 },
 "nbformat": 4,
 "nbformat_minor": 1
}
