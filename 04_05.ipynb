{
 "cells": [
  {
   "cell_type": "code",
   "execution_count": 1,
   "metadata": {},
   "outputs": [],
   "source": [
    "import numpy as np\n",
    "from scipy import linalg\n",
    "from matplotlib import pyplot as plt\n",
    "%matplotlib inline"
   ]
  },
  {
   "cell_type": "code",
   "execution_count": 2,
   "metadata": {},
   "outputs": [],
   "source": [
    "L = 1.0\n",
    "nx = 51\n",
    "dx = L / (nx-1)\n",
    "x = np.linspace(0.0, L, num=nx)\n",
    "\n",
    "alpha = 1.22e-3\n",
    "\n",
    "T0 = np.zeros(nx)\n",
    "T0[0] = 100.0"
   ]
  },
  {
   "cell_type": "code",
   "execution_count": 3,
   "metadata": {},
   "outputs": [],
   "source": [
    "def solve_1d(T0, nt, dt, dx, alpha, cI, cE, bc):\n",
    "    T = T0.copy()\n",
    "    N = len(T0) - 2\n",
    "    A, b_bc = lhs_operator(N, dt, dx, alpha, cI)\n",
    "    for n in range(nt):\n",
    "        b = rhs_vector(T, dt, dx, alpha, cE)\n",
    "        T[1:-1] = linalg.solve(A, b)\n",
    "        update_boundaries(T, dx, bc)\n",
    "    return T"
   ]
  },
  {
   "cell_type": "code",
   "execution_count": 4,
   "metadata": {},
   "outputs": [],
   "source": [
    "def lhs_operator(N, dt, dx, alpha, cI, bc):\n",
    "    I = np.identity(N)\n",
    "    L, b_bc = laplacian_1d(N, dx, bc)\n",
    "    A = I / dt - cI * alpha * L\n",
    "    return A,b_bc"
   ]
  },
  {
   "cell_type": "code",
   "execution_count": 5,
   "metadata": {},
   "outputs": [],
   "source": [
    "def laplacian_1d(N, dx, bc):\n",
    "    D = np.diag(-2.0 / dx**2 * np.ones(N))\n",
    "    L = np.diag(1.0 / dx**2 * np.ones(N - 1), k = -1)\n",
    "    U = np.diag(1.0 / dx**2 * np.ones(N - 1), k =+ 1)\n",
    "    A = D + U + L\n",
    "    b_bc = np.zeros(N)\n",
    "    # Left boundary\n",
    "    if bc['left']['type'] == 'Dirichlet':\n",
    "        b_bc[0] = bc['left']['value'] / dx**2\n",
    "    elif bc['left']['type'] == 'Neumann':\n",
    "        A[0, 0] = - 1.0 / dx**2\n",
    "        b_bc[0] = bc['left']['value'] / dx\n",
    "    # Right boundary\n",
    "    if bc['right']['type'] == 'Dirichlet':\n",
    "        b_bc[0] = bc['right']['value'] / dx**2\n",
    "    elif bc['right']['type'] == 'Neumann':\n",
    "        A[-1, -1] = - 1.0 / dx**2\n",
    "        b_bc[-1] = bc['right']['value'] / dx\n",
    "    return A, b_bc"
   ]
  },
  {
   "cell_type": "code",
   "execution_count": 6,
   "metadata": {},
   "outputs": [
    {
     "name": "stdout",
     "output_type": "stream",
     "text": [
      "Dirichlet\n",
      "Dirichlet\n"
     ]
    }
   ],
   "source": [
    "bc_left = {'type': 'Dirichlet', 'value': 100.0}\n",
    "bc_right = {'type': 'Neumann', 'value': 0.0}\n",
    "bc = {'left': bc_left, 'right': bc_right}\n",
    "print(bc_left['type'])\n",
    "print(bc['left']['type'])"
   ]
  },
  {
   "cell_type": "code",
   "execution_count": 7,
   "metadata": {},
   "outputs": [],
   "source": [
    "def rhs_vector(T,dt, dx, alpha, cE):\n",
    "    b = T[1:-1] / dt + cE * alpha * (T[:-2] - 2 * T[1:-1] + T[2:]) / dx**2\n",
    "    return b"
   ]
  },
  {
   "cell_type": "code",
   "execution_count": 8,
   "metadata": {},
   "outputs": [],
   "source": [
    "def update_boundaries(T, dx, bc):\n",
    "    T[0] = get_boundary_value(T[1], dx, bc['left'])\n",
    "    T[-1] = get_boundary_value(T[-2], dx, bc['right'])\n",
    "    return"
   ]
  },
  {
   "cell_type": "code",
   "execution_count": 9,
   "metadata": {},
   "outputs": [],
   "source": [
    "def get_boundary_value(T_neighbor, dx, bc):\n",
    "    if  bc['type'] == 'Dirichlet':\n",
    "        return bc['value']\n",
    "    elif bc['type'] == 'Neumann':\n",
    "        return T_neighbor + bc['value'] * dx\n",
    "    else:\n",
    "        raise ValueError('Only Dirichlet and Neumann are supported')\n",
    "    return"
   ]
  },
  {
   "cell_type": "code",
   "execution_count": 10,
   "metadata": {},
   "outputs": [
    {
     "data": {
      "text/plain": [
       "100.0"
      ]
     },
     "execution_count": 10,
     "metadata": {},
     "output_type": "execute_result"
    }
   ],
   "source": [
    "Tb = get_boundary_value(100.0, 1.0, {'type': 'Neumann', 'value': 0.0})\n",
    "Tb"
   ]
  },
  {
   "cell_type": "code",
   "execution_count": 11,
   "metadata": {},
   "outputs": [
    {
     "name": "stdout",
     "output_type": "stream",
     "text": [
      "[1. 1. 1.]\n",
      "[3. 1. 1.]\n"
     ]
    }
   ],
   "source": [
    "def func(a):\n",
    "    a[0] += 2.0\n",
    "    return\n",
    "\n",
    "a = np.ones(3)\n",
    "print(a)\n",
    "func(a)\n",
    "print(a)"
   ]
  },
  {
   "cell_type": "code",
   "execution_count": null,
   "metadata": {},
   "outputs": [],
   "source": []
  },
  {
   "cell_type": "code",
   "execution_count": 12,
   "metadata": {},
   "outputs": [
    {
     "ename": "TypeError",
     "evalue": "lhs_operator() missing 1 required positional argument: 'bc'",
     "output_type": "error",
     "traceback": [
      "\u001b[0;31m---------------------------------------------------------------------------\u001b[0m",
      "\u001b[0;31mTypeError\u001b[0m                                 Traceback (most recent call last)",
      "\u001b[0;32m<ipython-input-12-0ddcb78e4c71>\u001b[0m in \u001b[0;36m<module>\u001b[0;34m()\u001b[0m\n\u001b[1;32m      4\u001b[0m \u001b[0;34m\u001b[0m\u001b[0m\n\u001b[1;32m      5\u001b[0m \u001b[0;34m\u001b[0m\u001b[0m\n\u001b[0;32m----> 6\u001b[0;31m \u001b[0mT\u001b[0m \u001b[0;34m=\u001b[0m \u001b[0msolve_1d\u001b[0m\u001b[0;34m(\u001b[0m\u001b[0mT0\u001b[0m\u001b[0;34m,\u001b[0m \u001b[0mnt\u001b[0m\u001b[0;34m,\u001b[0m \u001b[0mdt\u001b[0m\u001b[0;34m,\u001b[0m \u001b[0mdx\u001b[0m\u001b[0;34m,\u001b[0m \u001b[0malpha\u001b[0m\u001b[0;34m,\u001b[0m \u001b[0;36m1.0\u001b[0m\u001b[0;34m,\u001b[0m \u001b[0;36m0.0\u001b[0m\u001b[0;34m,\u001b[0m \u001b[0mbc\u001b[0m\u001b[0;34m)\u001b[0m\u001b[0;34m\u001b[0m\u001b[0m\n\u001b[0m",
      "\u001b[0;32m<ipython-input-3-deb7f8bde60a>\u001b[0m in \u001b[0;36msolve_1d\u001b[0;34m(T0, nt, dt, dx, alpha, cI, cE, bc)\u001b[0m\n\u001b[1;32m      2\u001b[0m     \u001b[0mT\u001b[0m \u001b[0;34m=\u001b[0m \u001b[0mT0\u001b[0m\u001b[0;34m.\u001b[0m\u001b[0mcopy\u001b[0m\u001b[0;34m(\u001b[0m\u001b[0;34m)\u001b[0m\u001b[0;34m\u001b[0m\u001b[0m\n\u001b[1;32m      3\u001b[0m     \u001b[0mN\u001b[0m \u001b[0;34m=\u001b[0m \u001b[0mlen\u001b[0m\u001b[0;34m(\u001b[0m\u001b[0mT0\u001b[0m\u001b[0;34m)\u001b[0m \u001b[0;34m-\u001b[0m \u001b[0;36m2\u001b[0m\u001b[0;34m\u001b[0m\u001b[0m\n\u001b[0;32m----> 4\u001b[0;31m     \u001b[0mA\u001b[0m\u001b[0;34m,\u001b[0m \u001b[0mb_bc\u001b[0m \u001b[0;34m=\u001b[0m \u001b[0mlhs_operator\u001b[0m\u001b[0;34m(\u001b[0m\u001b[0mN\u001b[0m\u001b[0;34m,\u001b[0m \u001b[0mdt\u001b[0m\u001b[0;34m,\u001b[0m \u001b[0mdx\u001b[0m\u001b[0;34m,\u001b[0m \u001b[0malpha\u001b[0m\u001b[0;34m,\u001b[0m \u001b[0mcI\u001b[0m\u001b[0;34m)\u001b[0m\u001b[0;34m\u001b[0m\u001b[0m\n\u001b[0m\u001b[1;32m      5\u001b[0m     \u001b[0;32mfor\u001b[0m \u001b[0mn\u001b[0m \u001b[0;32min\u001b[0m \u001b[0mrange\u001b[0m\u001b[0;34m(\u001b[0m\u001b[0mnt\u001b[0m\u001b[0;34m)\u001b[0m\u001b[0;34m:\u001b[0m\u001b[0;34m\u001b[0m\u001b[0m\n\u001b[1;32m      6\u001b[0m         \u001b[0mb\u001b[0m \u001b[0;34m=\u001b[0m \u001b[0mrhs_vector\u001b[0m\u001b[0;34m(\u001b[0m\u001b[0mT\u001b[0m\u001b[0;34m,\u001b[0m \u001b[0mdt\u001b[0m\u001b[0;34m,\u001b[0m \u001b[0mdx\u001b[0m\u001b[0;34m,\u001b[0m \u001b[0malpha\u001b[0m\u001b[0;34m,\u001b[0m \u001b[0mcE\u001b[0m\u001b[0;34m)\u001b[0m\u001b[0;34m\u001b[0m\u001b[0m\n",
      "\u001b[0;31mTypeError\u001b[0m: lhs_operator() missing 1 required positional argument: 'bc'"
     ]
    }
   ],
   "source": [
    "sigma = 0.5\n",
    "dt = sigma * dx**2 / alpha\n",
    "nt = 100\n",
    "\n",
    "\n",
    "T = solve_1d(T0, nt, dt, dx, alpha, 1.0, 0.0, bc)"
   ]
  },
  {
   "cell_type": "code",
   "execution_count": null,
   "metadata": {},
   "outputs": [],
   "source": [
    "plt.plot(x,T)"
   ]
  },
  {
   "cell_type": "code",
   "execution_count": null,
   "metadata": {},
   "outputs": [],
   "source": []
  }
 ],
 "metadata": {
  "kernelspec": {
   "display_name": "Python 3",
   "language": "python",
   "name": "python3"
  },
  "language_info": {
   "codemirror_mode": {
    "name": "ipython",
    "version": 3
   },
   "file_extension": ".py",
   "mimetype": "text/x-python",
   "name": "python",
   "nbconvert_exporter": "python",
   "pygments_lexer": "ipython3",
   "version": "3.6.2"
  }
 },
 "nbformat": 4,
 "nbformat_minor": 2
}
